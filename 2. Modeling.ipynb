{
 "cells": [
  {
   "cell_type": "code",
   "execution_count": 1,
   "metadata": {
    "executionInfo": {
     "elapsed": 7,
     "status": "ok",
     "timestamp": 1651085166040,
     "user": {
      "displayName": "Herbi Shtini",
      "userId": "03158017251313112277"
     },
     "user_tz": -120
    },
    "id": "TwBGKY9q8uWB"
   },
   "outputs": [],
   "source": [
    "if 'google.colab' in str(get_ipython()):\n",
    "  IN_COLAB = True\n",
    "else:\n",
    "  IN_COLAB = False\n",
    "  HDFS_PATH = 'hdfs://localhost:9000/user/'"
   ]
  },
  {
   "cell_type": "code",
   "execution_count": 2,
   "metadata": {
    "executionInfo": {
     "elapsed": 114588,
     "status": "ok",
     "timestamp": 1651085280622,
     "user": {
      "displayName": "Herbi Shtini",
      "userId": "03158017251313112277"
     },
     "user_tz": -120
    },
    "id": "faM5kp7DDidG"
   },
   "outputs": [],
   "source": [
    "if IN_COLAB:\n",
    "  # Installing JDK, Hadoop, Spark\n",
    "  !apt-get install openjdk-8-jdk-headless -qq > /dev/null\n",
    "  !wget -q http://archive.apache.org/dist/spark/spark-3.2.1/spark-3.2.1-bin-hadoop3.2.tgz\n",
    "  !tar xf spark-3.2.1-bin-hadoop3.2.tgz\n",
    "  !pip install -q findspark\n",
    "\n",
    "  # TODO this part below will be removed before we deliver the project\n",
    "  # Authenticate and create the PyDrive client.\n",
    "  !pip install -U -q PyDrive\n",
    "  from pydrive.auth import GoogleAuth\n",
    "  from pydrive.drive import GoogleDrive\n",
    "  from google.colab import auth\n",
    "  from oauth2client.client import GoogleCredentials\n",
    "\n",
    "  auth.authenticate_user()\n",
    "  gauth = GoogleAuth()\n",
    "  gauth.credentials = GoogleCredentials.get_application_default()\n",
    "  drive = GoogleDrive(gauth)\n",
    "\n",
    "  #downloaded = drive.CreateFile({'id': '1hSexq5mSu32ARQ4lxZPfD7pdtmtY1DQU'}) \n",
    "  #downloaded.GetContentFile('ny_accidents-clean.csv') \n",
    "\n",
    "  downloaded = drive.CreateFile({'id': '1puL-m5qP_0QroAHOTHmEWObJ-MX0TMXC'}) \n",
    "  downloaded.GetContentFile('ny_accidents-clean-2.csv') \n",
    "\n",
    "  # Environmental variables\n",
    "  import os\n",
    "  os.environ[\"JAVA_HOME\"] = \"/usr/lib/jvm/java-8-openjdk-amd64\"\n",
    "  os.environ[\"SPARK_HOME\"] = \"/content/spark-3.2.1-bin-hadoop3.2\""
   ]
  },
  {
   "cell_type": "code",
   "execution_count": 3,
   "metadata": {
    "executionInfo": {
     "elapsed": 2571,
     "status": "ok",
     "timestamp": 1651085283170,
     "user": {
      "displayName": "Herbi Shtini",
      "userId": "03158017251313112277"
     },
     "user_tz": -120
    },
    "id": "cj-tx2LNDleU"
   },
   "outputs": [],
   "source": [
    "import findspark\n",
    "findspark.init()\n",
    "from pyspark import SparkConf, SparkContext\n",
    "from pyspark.sql import SQLContext, SparkSession, functions as F\n",
    "from pyspark.sql.functions import dayofweek\n",
    "from pyspark.mllib.tree import DecisionTree, DecisionTreeModel\n",
    "from pyspark.mllib.util import MLUtils\n",
    "from pyspark.ml import Pipeline\n",
    "from pyspark.ml.classification import DecisionTreeClassifier, MultilayerPerceptronClassifier\n",
    "from pyspark.ml.evaluation import MulticlassClassificationEvaluator\n",
    "from pyspark.ml.feature import VectorIndexer\n",
    "from pyspark.ml.evaluation import RegressionEvaluator\n",
    "from pyspark.ml.tuning import ParamGridBuilder, CrossValidator\n",
    "from pyspark.ml.feature import VectorAssembler\n",
    "from sklearn.metrics import confusion_matrix, ConfusionMatrixDisplay\n",
    "import matplotlib.pyplot as plt\n",
    "import plotly.express as px\n",
    "import pandas as pd\n",
    "import numpy as np\n",
    "\n",
    "# Plots\n",
    "import seaborn as sns\n",
    "import matplotlib.ticker as tkr\n",
    "import matplotlib.pyplot as plt\n",
    "import plotly.graph_objs as go"
   ]
  },
  {
   "cell_type": "markdown",
   "metadata": {
    "id": "XkWGccl9kpZU"
   },
   "source": [
    "#### Hilfsfunktionen"
   ]
  },
  {
   "cell_type": "code",
   "execution_count": 4,
   "metadata": {
    "executionInfo": {
     "elapsed": 6,
     "status": "ok",
     "timestamp": 1651085283170,
     "user": {
      "displayName": "Herbi Shtini",
      "userId": "03158017251313112277"
     },
     "user_tz": -120
    },
    "id": "Nyf15SLYkolg"
   },
   "outputs": [],
   "source": [
    "def plotFeatureImportance(importances):\n",
    "  dt_importances = pd.Series(importances)\n",
    "\n",
    "  fig, ax = plt.subplots(figsize=(15,5))\n",
    "  dt_importances.plot.bar(ax=ax)\n",
    "  ax.set_title(\"Feature importances\")\n",
    "  ax.set_ylabel(\"Mean decrease in impurity\")\n",
    "  fig.tight_layout()\n",
    "\n",
    "def getFilteredImportances(f_importances):\n",
    "  imp = pd.Series(f_importances, index=FEATURES)\n",
    "\n",
    "  sorted_importances = imp.sort_values(ascending=False)\n",
    "  sorted_importances = sorted_importances[0:10]\n",
    "  return sorted_importances\n",
    "\n",
    "def addOverviewPlot(title, ax, y_pred, y_test):\n",
    "  sns.scatterplot(y_test, y_pred, ax=ax)\n",
    "  ax.set_title(title)\n",
    "  ax.set_xlabel('Severity')\n",
    "  ax.set_ylabel('Vorausgesagte Severity')\n",
    "  z = np.polyfit(y_test, y_pred, 1)\n",
    "  p = np.poly1d(z)\n",
    "  ax.plot(y_test, p(y_test), color='red')"
   ]
  },
  {
   "cell_type": "markdown",
   "metadata": {
    "id": "GpmLsV4mxzxr"
   },
   "source": [
    "### Init & Data load"
   ]
  },
  {
   "cell_type": "code",
   "execution_count": 5,
   "metadata": {
    "colab": {
     "base_uri": "https://localhost:8080/"
    },
    "executionInfo": {
     "elapsed": 10861,
     "status": "ok",
     "timestamp": 1651085294027,
     "user": {
      "displayName": "Herbi Shtini",
      "userId": "03158017251313112277"
     },
     "user_tz": -120
    },
    "id": "2WkZRBt6EGWv",
    "outputId": "f2461a3b-1ffe-4570-a84d-b3a1810a8b23"
   },
   "outputs": [
    {
     "name": "stderr",
     "output_type": "stream",
     "text": [
      "Using Spark's default log4j profile: org/apache/spark/log4j-defaults.properties\n",
      "Setting default log level to \"WARN\".\n",
      "To adjust logging level use sc.setLogLevel(newLevel). For SparkR, use setLogLevel(newLevel).\n",
      "22/05/02 22:33:36 WARN NativeCodeLoader: Unable to load native-hadoop library for your platform... using builtin-java classes where applicable\n",
      "22/05/02 22:33:37 WARN Utils: Service 'SparkUI' could not bind on port 4040. Attempting port 4041.\n",
      "22/05/02 22:33:37 WARN Utils: Service 'SparkUI' could not bind on port 4041. Attempting port 4042.\n",
      "/Users/herbishtini/opt/anaconda3/lib/python3.9/site-packages/pyspark/sql/context.py:77: FutureWarning: Deprecated in 3.0.0. Use SparkSession.builder.getOrCreate() instead.\n",
      "  warnings.warn(\n"
     ]
    }
   ],
   "source": [
    "# Create Session\n",
    "spark = SparkSession.builder.master(\"local[*]\").getOrCreate()\n",
    "spark.conf.set(\"spark.sql.repl.eagerEval.enabled\", True) # Property used to format output tables better\n",
    "\n",
    "sc = SparkContext.getOrCreate()\n",
    "sqlContext = SQLContext(sc)"
   ]
  },
  {
   "cell_type": "code",
   "execution_count": 6,
   "metadata": {
    "colab": {
     "base_uri": "https://localhost:8080/"
    },
    "executionInfo": {
     "elapsed": 24204,
     "status": "ok",
     "timestamp": 1651085318226,
     "user": {
      "displayName": "Herbi Shtini",
      "userId": "03158017251313112277"
     },
     "user_tz": -120
    },
    "id": "w7xbdTCrEJpr",
    "outputId": "c4782591-5cbd-402e-b720-3579f34cdab8"
   },
   "outputs": [
    {
     "name": "stderr",
     "output_type": "stream",
     "text": [
      "22/05/02 22:33:46 WARN package: Truncated the string representation of a plan since it was too large. This behavior can be adjusted by setting 'spark.sql.debug.maxToStringFields'.\n"
     ]
    },
    {
     "name": "stdout",
     "output_type": "stream",
     "text": [
      "+--------+-------+--------------+-----------+------------+--------------+---------------+-----------------+-------+---------------+--------------+------------+----------------+---------------+--------------------+-----------------------+------------------------+----------------------+---------------------+----------------------------+----------------------------+-------------------------------+--------------------------+-------------------------------+----------------------+----------------------------------+------------------+--------------------+-------------+------------+---------------+---------------+------------+---------------+-------------+-------------+-----------------+---------------+------------------+\n",
      "|Severity|Zipcode|Temperature(F)|Humidity(%)|Pressure(in)|Visibility(mi)|Wind_Speed(mph)|Precipitation(in)|Amenity|Traffic_Calming|Traffic_Signal|Turning_Loop|Start_Time_month|Start_Time_hour|Start_Time_dayofweek|Weather_Condition_Clear|Weather_Condition_Cloudy|Weather_Condition_Fair|Weather_Condition_Fog|Weather_Condition_Light Rain|Weather_Condition_Light Snow|Weather_Condition_Mostly Cloudy|Weather_Condition_Overcast|Weather_Condition_Partly Cloudy|Weather_Condition_Rain|Weather_Condition_Scattered Clouds|Sunrise_Sunset_Day|Sunrise_Sunset_Night|County_Albany|County_Bronx|County_Columbia|County_Dutchess|County_Kings|County_New York|County_Putnam|County_Queens|County_Rensselaer|County_Richmond|County_Westchester|\n",
      "+--------+-------+--------------+-----------+------------+--------------+---------------+-----------------+-------+---------------+--------------+------------+----------------+---------------+--------------------+-----------------------+------------------------+----------------------+---------------------+----------------------------+----------------------------+-------------------------------+--------------------------+-------------------------------+----------------------+----------------------------------+------------------+--------------------+-------------+------------+---------------+---------------+------------+---------------+-------------+-------------+-----------------+---------------+------------------+\n",
      "|       2|  10033|          53.1|       93.0|        29.8|           2.0|            6.9|             0.09|  false|              0|             0|           0|              11|             15|                   2|                      0|                       0|                     0|                    0|                           0|                           0|                              0|                         0|                              0|                     1|                                 0|                 1|                   0|            0|           0|              0|              0|           0|              1|            0|            0|                0|              0|                 0|\n",
      "|       2|  10028|          53.1|       93.0|       29.81|           2.5|            3.5|             0.02|  false|              0|             0|           0|              11|             17|                   2|                      0|                       0|                     0|                    0|                           1|                           0|                              0|                         0|                              0|                     0|                                 0|                 0|                   1|            0|           0|              0|              0|           0|              1|            0|            0|                0|              0|                 0|\n",
      "|       2|  11201|          53.6|      100.0|       30.41|           0.0|           15.0|             9.99|  false|              0|             1|           0|              11|             17|                   2|                      0|                       0|                     0|                    0|                           0|                           0|                              0|                         1|                              0|                     0|                                 0|                 0|                   1|            0|           0|              0|              0|           1|              0|            0|            0|                0|              0|                 0|\n",
      "|       2|  12204|          51.8|       82.0|       29.75|          10.0|           11.5|              0.0|  false|              0|             0|           0|              11|             17|                   2|                      0|                       0|                     0|                    0|                           1|                           0|                              0|                         0|                              0|                     0|                                 0|                 0|                   1|            1|           0|              0|              0|           0|              0|            0|            0|                0|              0|                 0|\n",
      "|       4|  10566|          50.0|      100.0|        29.8|           3.0|           11.5|              0.0|  false|              0|             0|           0|              11|             18|                   2|                      0|                       0|                     0|                    0|                           1|                           0|                              0|                         0|                              0|                     0|                                 0|                 0|                   1|            0|           0|              0|              0|           0|              0|            0|            0|                0|              0|                 1|\n",
      "+--------+-------+--------------+-----------+------------+--------------+---------------+-----------------+-------+---------------+--------------+------------+----------------+---------------+--------------------+-----------------------+------------------------+----------------------+---------------------+----------------------------+----------------------------+-------------------------------+--------------------------+-------------------------------+----------------------+----------------------------------+------------------+--------------------+-------------+------------+---------------+---------------+------------+---------------+-------------+-------------+-----------------+---------------+------------------+\n",
      "only showing top 5 rows\n",
      "\n"
     ]
    }
   ],
   "source": [
    "file_name = 'ny_accidents-clean-route.csv' \n",
    "df = spark.read.csv(file_name if IN_COLAB else HDFS_PATH + file_name, header=True, inferSchema=True)\n",
    "df.show(5)"
   ]
  },
  {
   "cell_type": "markdown",
   "metadata": {
    "id": "QGqrIh8xyE2I"
   },
   "source": [
    "### Datenvorbereitung"
   ]
  },
  {
   "cell_type": "code",
   "execution_count": 7,
   "metadata": {
    "colab": {
     "base_uri": "https://localhost:8080/"
    },
    "executionInfo": {
     "elapsed": 427,
     "status": "ok",
     "timestamp": 1651085318630,
     "user": {
      "displayName": "Herbi Shtini",
      "userId": "03158017251313112277"
     },
     "user_tz": -120
    },
    "id": "mkGsw0DOw20L",
    "outputId": "5738d78c-7ec0-4137-f13d-19220fdf9d37"
   },
   "outputs": [
    {
     "data": {
      "text/plain": [
       "['Sunrise_Sunset_Night',\n",
       " 'Weather_Condition_Scattered Clouds',\n",
       " 'Humidity(%)',\n",
       " 'Visibility(mi)',\n",
       " 'Weather_Condition_Partly Cloudy',\n",
       " 'Weather_Condition_Fog',\n",
       " 'Weather_Condition_Mostly Cloudy',\n",
       " 'Start_Time_hour',\n",
       " 'Weather_Condition_Rain',\n",
       " 'Precipitation(in)',\n",
       " 'Weather_Condition_Light Rain',\n",
       " 'Wind_Speed(mph)',\n",
       " 'County_Kings',\n",
       " 'County_Rensselaer',\n",
       " 'Temperature(F)',\n",
       " 'Weather_Condition_Overcast',\n",
       " 'County_Bronx',\n",
       " 'Weather_Condition_Light Snow',\n",
       " 'Turning_Loop',\n",
       " 'County_Putnam',\n",
       " 'County_Albany',\n",
       " 'County_Richmond',\n",
       " 'Weather_Condition_Cloudy',\n",
       " 'Weather_Condition_Clear',\n",
       " 'Weather_Condition_Fair',\n",
       " 'Traffic_Calming',\n",
       " 'Pressure(in)',\n",
       " 'County_Columbia',\n",
       " 'Amenity',\n",
       " 'Traffic_Signal',\n",
       " 'County_New York',\n",
       " 'County_Queens',\n",
       " 'County_Dutchess',\n",
       " 'County_Westchester',\n",
       " 'Sunrise_Sunset_Day',\n",
       " 'Start_Time_dayofweek',\n",
       " 'Start_Time_month']"
      ]
     },
     "execution_count": 7,
     "metadata": {},
     "output_type": "execute_result"
    }
   ],
   "source": [
    "df_clean = df.drop('Start_Time_minute', 'ZipCode')\n",
    "FEATURES = list(set(df_clean.columns) - set(['Severity']))\n",
    "FEATURES"
   ]
  },
  {
   "cell_type": "code",
   "execution_count": 8,
   "metadata": {
    "colab": {
     "base_uri": "https://localhost:8080/"
    },
    "executionInfo": {
     "elapsed": 2520,
     "status": "ok",
     "timestamp": 1651085321146,
     "user": {
      "displayName": "Herbi Shtini",
      "userId": "03158017251313112277"
     },
     "user_tz": -120
    },
    "id": "ARaqJm_A0V6F",
    "outputId": "8d71163f-34ac-40a7-9532-ee5968a4789f"
   },
   "outputs": [
    {
     "name": "stdout",
     "output_type": "stream",
     "text": [
      "+--------------------+--------+\n",
      "|            features|Severity|\n",
      "+--------------------+--------+\n",
      "|(37,[2,3,7,8,9,11...|       2|\n",
      "|(37,[0,2,3,7,9,10...|       2|\n",
      "|(37,[0,2,7,9,11,1...|       2|\n",
      "|(37,[0,2,3,7,10,1...|       2|\n",
      "|(37,[0,2,3,7,10,1...|       4|\n",
      "+--------------------+--------+\n",
      "only showing top 5 rows\n",
      "\n"
     ]
    }
   ],
   "source": [
    "va = VectorAssembler(inputCols = FEATURES, outputCol='features')\n",
    "va_df = va.transform(df_clean)\n",
    "va_df = va_df.select(['features', 'Severity'])\n",
    "va_df.show(5)"
   ]
  },
  {
   "cell_type": "code",
   "execution_count": 9,
   "metadata": {
    "colab": {
     "base_uri": "https://localhost:8080/"
    },
    "executionInfo": {
     "elapsed": 12469,
     "status": "ok",
     "timestamp": 1651085333612,
     "user": {
      "displayName": "Herbi Shtini",
      "userId": "03158017251313112277"
     },
     "user_tz": -120
    },
    "id": "_FeRrovyJEDy",
    "outputId": "316d9c5c-68f9-47aa-ad75-3cf3c5691ec1"
   },
   "outputs": [
    {
     "name": "stderr",
     "output_type": "stream",
     "text": [
      "                                                                                \r"
     ]
    },
    {
     "name": "stdout",
     "output_type": "stream",
     "text": [
      "Training Dataset Anzahl: 42675\n",
      "Test Dataset Anzahl: 10605\n"
     ]
    },
    {
     "name": "stderr",
     "output_type": "stream",
     "text": [
      "\r",
      "[Stage 7:=============================>                             (1 + 1) / 2]\r",
      "\r",
      "                                                                                \r"
     ]
    }
   ],
   "source": [
    "# Split the data into training and test sets (20% held out for testing)\n",
    "(trainingData, testData) = va_df.randomSplit([0.8, 0.2], seed=42)\n",
    "print(\"Training Dataset Anzahl: \" + str(trainingData.count()))\n",
    "print(\"Test Dataset Anzahl: \" + str(testData.count()))"
   ]
  },
  {
   "cell_type": "markdown",
   "metadata": {
    "id": "6ROj34Bmxcwg"
   },
   "source": [
    "### DecisionTree"
   ]
  },
  {
   "cell_type": "code",
   "execution_count": 10,
   "metadata": {
    "colab": {
     "base_uri": "https://localhost:8080/"
    },
    "executionInfo": {
     "elapsed": 635548,
     "status": "ok",
     "timestamp": 1651085969155,
     "user": {
      "displayName": "Herbi Shtini",
      "userId": "03158017251313112277"
     },
     "user_tz": -120
    },
    "id": "ptPvbWLcpdlj",
    "outputId": "0fc3c3e2-f26f-4366-ed3e-a5f3a4a36e05"
   },
   "outputs": [
    {
     "name": "stderr",
     "output_type": "stream",
     "text": [
      "22/05/02 22:34:22 WARN DAGScheduler: Broadcasting large task binary with size 1093.0 KiB\n",
      "22/05/02 22:34:22 WARN DAGScheduler: Broadcasting large task binary with size 1217.2 KiB\n",
      "22/05/02 22:34:24 WARN DAGScheduler: Broadcasting large task binary with size 1061.7 KiB\n",
      "22/05/02 22:34:24 WARN DAGScheduler: Broadcasting large task binary with size 1183.6 KiB\n",
      "22/05/02 22:34:27 WARN DAGScheduler: Broadcasting large task binary with size 1017.5 KiB\n",
      "22/05/02 22:34:27 WARN DAGScheduler: Broadcasting large task binary with size 1134.8 KiB\n",
      "22/05/02 22:34:30 WARN DAGScheduler: Broadcasting large task binary with size 1018.0 KiB\n",
      "22/05/02 22:34:30 WARN DAGScheduler: Broadcasting large task binary with size 1126.5 KiB\n",
      "22/05/02 22:34:33 WARN DAGScheduler: Broadcasting large task binary with size 1018.3 KiB\n",
      "22/05/02 22:34:33 WARN DAGScheduler: Broadcasting large task binary with size 1128.2 KiB\n",
      "22/05/02 22:34:35 WARN DAGScheduler: Broadcasting large task binary with size 1093.0 KiB\n",
      "22/05/02 22:34:36 WARN DAGScheduler: Broadcasting large task binary with size 1217.2 KiB\n",
      "22/05/02 22:34:36 WARN DAGScheduler: Broadcasting large task binary with size 1329.2 KiB\n",
      "22/05/02 22:34:36 WARN DAGScheduler: Broadcasting large task binary with size 1431.0 KiB\n",
      "22/05/02 22:34:36 WARN DAGScheduler: Broadcasting large task binary with size 1519.1 KiB\n",
      "22/05/02 22:34:36 WARN DAGScheduler: Broadcasting large task binary with size 1595.0 KiB\n",
      "22/05/02 22:34:36 WARN DAGScheduler: Broadcasting large task binary with size 1655.4 KiB\n",
      "22/05/02 22:34:36 WARN DAGScheduler: Broadcasting large task binary with size 1703.8 KiB\n",
      "22/05/02 22:34:37 WARN DAGScheduler: Broadcasting large task binary with size 1740.6 KiB\n",
      "22/05/02 22:34:37 WARN DAGScheduler: Broadcasting large task binary with size 1771.3 KiB\n",
      "22/05/02 22:34:37 WARN DAGScheduler: Broadcasting large task binary with size 1795.9 KiB\n",
      "22/05/02 22:34:37 WARN DAGScheduler: Broadcasting large task binary with size 1812.4 KiB\n",
      "22/05/02 22:34:37 WARN DAGScheduler: Broadcasting large task binary with size 1105.6 KiB\n",
      "22/05/02 22:34:39 WARN DAGScheduler: Broadcasting large task binary with size 1061.7 KiB\n",
      "22/05/02 22:34:39 WARN DAGScheduler: Broadcasting large task binary with size 1183.6 KiB\n",
      "22/05/02 22:34:39 WARN DAGScheduler: Broadcasting large task binary with size 1302.2 KiB\n",
      "22/05/02 22:34:39 WARN DAGScheduler: Broadcasting large task binary with size 1409.5 KiB\n",
      "22/05/02 22:34:39 WARN DAGScheduler: Broadcasting large task binary with size 1501.5 KiB\n",
      "22/05/02 22:34:40 WARN DAGScheduler: Broadcasting large task binary with size 1572.4 KiB\n",
      "22/05/02 22:34:40 WARN DAGScheduler: Broadcasting large task binary with size 1624.7 KiB\n",
      "22/05/02 22:34:40 WARN DAGScheduler: Broadcasting large task binary with size 1667.3 KiB\n",
      "22/05/02 22:34:40 WARN DAGScheduler: Broadcasting large task binary with size 1699.6 KiB\n",
      "22/05/02 22:34:40 WARN DAGScheduler: Broadcasting large task binary with size 1722.6 KiB\n",
      "22/05/02 22:34:40 WARN DAGScheduler: Broadcasting large task binary with size 1735.1 KiB\n",
      "22/05/02 22:34:40 WARN DAGScheduler: Broadcasting large task binary with size 1743.1 KiB\n",
      "22/05/02 22:34:41 WARN DAGScheduler: Broadcasting large task binary with size 1070.9 KiB\n",
      "22/05/02 22:34:42 WARN DAGScheduler: Broadcasting large task binary with size 1017.5 KiB\n",
      "22/05/02 22:34:43 WARN DAGScheduler: Broadcasting large task binary with size 1134.8 KiB\n",
      "22/05/02 22:34:43 WARN DAGScheduler: Broadcasting large task binary with size 1235.4 KiB\n",
      "22/05/02 22:34:43 WARN DAGScheduler: Broadcasting large task binary with size 1326.2 KiB\n",
      "22/05/02 22:34:43 WARN DAGScheduler: Broadcasting large task binary with size 1410.1 KiB\n",
      "22/05/02 22:34:43 WARN DAGScheduler: Broadcasting large task binary with size 1474.7 KiB\n",
      "22/05/02 22:34:43 WARN DAGScheduler: Broadcasting large task binary with size 1527.4 KiB\n",
      "22/05/02 22:34:44 WARN DAGScheduler: Broadcasting large task binary with size 1570.4 KiB\n",
      "22/05/02 22:34:44 WARN DAGScheduler: Broadcasting large task binary with size 1604.0 KiB\n",
      "22/05/02 22:34:44 WARN DAGScheduler: Broadcasting large task binary with size 1630.4 KiB\n",
      "22/05/02 22:34:44 WARN DAGScheduler: Broadcasting large task binary with size 1651.3 KiB\n",
      "22/05/02 22:34:44 WARN DAGScheduler: Broadcasting large task binary with size 1664.5 KiB\n",
      "22/05/02 22:34:44 WARN DAGScheduler: Broadcasting large task binary with size 1030.6 KiB\n",
      "22/05/02 22:34:46 WARN DAGScheduler: Broadcasting large task binary with size 1018.0 KiB\n",
      "22/05/02 22:34:46 WARN DAGScheduler: Broadcasting large task binary with size 1126.5 KiB\n",
      "22/05/02 22:34:47 WARN DAGScheduler: Broadcasting large task binary with size 1226.0 KiB\n",
      "22/05/02 22:34:47 WARN DAGScheduler: Broadcasting large task binary with size 1317.2 KiB\n",
      "22/05/02 22:34:47 WARN DAGScheduler: Broadcasting large task binary with size 1395.8 KiB\n",
      "22/05/02 22:34:47 WARN DAGScheduler: Broadcasting large task binary with size 1461.9 KiB\n",
      "22/05/02 22:34:47 WARN DAGScheduler: Broadcasting large task binary with size 1514.5 KiB\n",
      "22/05/02 22:34:47 WARN DAGScheduler: Broadcasting large task binary with size 1556.9 KiB\n",
      "22/05/02 22:34:48 WARN DAGScheduler: Broadcasting large task binary with size 1591.3 KiB\n",
      "22/05/02 22:34:48 WARN DAGScheduler: Broadcasting large task binary with size 1616.5 KiB\n",
      "22/05/02 22:34:48 WARN DAGScheduler: Broadcasting large task binary with size 1634.3 KiB\n",
      "22/05/02 22:34:48 WARN DAGScheduler: Broadcasting large task binary with size 1647.9 KiB\n",
      "22/05/02 22:34:48 WARN DAGScheduler: Broadcasting large task binary with size 1022.7 KiB\n",
      "22/05/02 22:34:51 WARN DAGScheduler: Broadcasting large task binary with size 1018.3 KiB\n",
      "22/05/02 22:34:51 WARN DAGScheduler: Broadcasting large task binary with size 1128.2 KiB\n",
      "22/05/02 22:34:51 WARN DAGScheduler: Broadcasting large task binary with size 1227.9 KiB\n",
      "22/05/02 22:34:51 WARN DAGScheduler: Broadcasting large task binary with size 1318.2 KiB\n",
      "22/05/02 22:34:51 WARN DAGScheduler: Broadcasting large task binary with size 1394.5 KiB\n",
      "22/05/02 22:34:52 WARN DAGScheduler: Broadcasting large task binary with size 1455.7 KiB\n",
      "22/05/02 22:34:52 WARN DAGScheduler: Broadcasting large task binary with size 1505.4 KiB\n",
      "22/05/02 22:34:52 WARN DAGScheduler: Broadcasting large task binary with size 1546.4 KiB\n",
      "22/05/02 22:34:52 WARN DAGScheduler: Broadcasting large task binary with size 1579.3 KiB\n",
      "22/05/02 22:34:52 WARN DAGScheduler: Broadcasting large task binary with size 1606.5 KiB\n",
      "22/05/02 22:34:52 WARN DAGScheduler: Broadcasting large task binary with size 1628.7 KiB\n",
      "22/05/02 22:34:52 WARN DAGScheduler: Broadcasting large task binary with size 1645.6 KiB\n",
      "22/05/02 22:34:53 WARN DAGScheduler: Broadcasting large task binary with size 1022.1 KiB\n",
      "22/05/02 22:35:08 WARN DAGScheduler: Broadcasting large task binary with size 1091.4 KiB\n",
      "22/05/02 22:35:09 WARN DAGScheduler: Broadcasting large task binary with size 1209.6 KiB\n",
      "22/05/02 22:35:11 WARN DAGScheduler: Broadcasting large task binary with size 1060.2 KiB\n",
      "22/05/02 22:35:11 WARN DAGScheduler: Broadcasting large task binary with size 1168.5 KiB\n",
      "22/05/02 22:35:13 WARN DAGScheduler: Broadcasting large task binary with size 1012.1 KiB\n",
      "22/05/02 22:35:13 WARN DAGScheduler: Broadcasting large task binary with size 1120.6 KiB\n",
      "22/05/02 22:35:15 WARN DAGScheduler: Broadcasting large task binary with size 1096.4 KiB\n",
      "22/05/02 22:35:18 WARN DAGScheduler: Broadcasting large task binary with size 1069.4 KiB\n",
      "22/05/02 22:35:21 WARN DAGScheduler: Broadcasting large task binary with size 1091.4 KiB\n",
      "22/05/02 22:35:21 WARN DAGScheduler: Broadcasting large task binary with size 1209.6 KiB\n",
      "22/05/02 22:35:21 WARN DAGScheduler: Broadcasting large task binary with size 1318.7 KiB\n",
      "22/05/02 22:35:21 WARN DAGScheduler: Broadcasting large task binary with size 1416.6 KiB\n",
      "22/05/02 22:35:21 WARN DAGScheduler: Broadcasting large task binary with size 1501.7 KiB\n",
      "22/05/02 22:35:21 WARN DAGScheduler: Broadcasting large task binary with size 1575.6 KiB\n",
      "22/05/02 22:35:21 WARN DAGScheduler: Broadcasting large task binary with size 1641.3 KiB\n",
      "22/05/02 22:35:21 WARN DAGScheduler: Broadcasting large task binary with size 1699.2 KiB\n",
      "22/05/02 22:35:21 WARN DAGScheduler: Broadcasting large task binary with size 1749.0 KiB\n",
      "22/05/02 22:35:22 WARN DAGScheduler: Broadcasting large task binary with size 1789.0 KiB\n",
      "22/05/02 22:35:22 WARN DAGScheduler: Broadcasting large task binary with size 1821.5 KiB\n"
     ]
    },
    {
     "name": "stderr",
     "output_type": "stream",
     "text": [
      "22/05/02 22:35:22 WARN DAGScheduler: Broadcasting large task binary with size 1845.6 KiB\n",
      "22/05/02 22:35:22 WARN DAGScheduler: Broadcasting large task binary with size 1122.7 KiB\n",
      "22/05/02 22:35:24 WARN DAGScheduler: Broadcasting large task binary with size 1060.2 KiB\n",
      "22/05/02 22:35:24 WARN DAGScheduler: Broadcasting large task binary with size 1168.5 KiB\n",
      "22/05/02 22:35:24 WARN DAGScheduler: Broadcasting large task binary with size 1266.8 KiB\n",
      "22/05/02 22:35:24 WARN DAGScheduler: Broadcasting large task binary with size 1355.3 KiB\n",
      "22/05/02 22:35:24 WARN DAGScheduler: Broadcasting large task binary with size 1434.7 KiB\n",
      "22/05/02 22:35:24 WARN DAGScheduler: Broadcasting large task binary with size 1500.0 KiB\n",
      "22/05/02 22:35:24 WARN DAGScheduler: Broadcasting large task binary with size 1557.5 KiB\n",
      "22/05/02 22:35:25 WARN DAGScheduler: Broadcasting large task binary with size 1606.0 KiB\n",
      "22/05/02 22:35:25 WARN DAGScheduler: Broadcasting large task binary with size 1641.1 KiB\n",
      "22/05/02 22:35:25 WARN DAGScheduler: Broadcasting large task binary with size 1666.9 KiB\n",
      "22/05/02 22:35:26 WARN DAGScheduler: Broadcasting large task binary with size 1691.5 KiB\n",
      "22/05/02 22:35:26 WARN DAGScheduler: Broadcasting large task binary with size 1709.3 KiB\n",
      "22/05/02 22:35:26 WARN DAGScheduler: Broadcasting large task binary with size 1049.5 KiB\n",
      "22/05/02 22:35:28 WARN DAGScheduler: Broadcasting large task binary with size 1012.1 KiB\n",
      "22/05/02 22:35:28 WARN DAGScheduler: Broadcasting large task binary with size 1120.6 KiB\n",
      "22/05/02 22:35:29 WARN DAGScheduler: Broadcasting large task binary with size 1222.8 KiB\n",
      "22/05/02 22:35:29 WARN DAGScheduler: Broadcasting large task binary with size 1317.1 KiB\n",
      "22/05/02 22:35:29 WARN DAGScheduler: Broadcasting large task binary with size 1401.4 KiB\n",
      "22/05/02 22:35:29 WARN DAGScheduler: Broadcasting large task binary with size 1478.9 KiB\n",
      "22/05/02 22:35:29 WARN DAGScheduler: Broadcasting large task binary with size 1544.3 KiB\n",
      "22/05/02 22:35:29 WARN DAGScheduler: Broadcasting large task binary with size 1592.4 KiB\n",
      "22/05/02 22:35:29 WARN DAGScheduler: Broadcasting large task binary with size 1622.6 KiB\n",
      "22/05/02 22:35:29 WARN DAGScheduler: Broadcasting large task binary with size 1642.6 KiB\n",
      "22/05/02 22:35:30 WARN DAGScheduler: Broadcasting large task binary with size 1658.1 KiB\n",
      "22/05/02 22:35:30 WARN DAGScheduler: Broadcasting large task binary with size 1670.9 KiB\n",
      "22/05/02 22:35:30 WARN DAGScheduler: Broadcasting large task binary with size 1034.0 KiB\n",
      "22/05/02 22:35:32 WARN DAGScheduler: Broadcasting large task binary with size 1096.4 KiB\n",
      "22/05/02 22:35:32 WARN DAGScheduler: Broadcasting large task binary with size 1199.6 KiB\n",
      "22/05/02 22:35:32 WARN DAGScheduler: Broadcasting large task binary with size 1297.8 KiB\n",
      "22/05/02 22:35:33 WARN DAGScheduler: Broadcasting large task binary with size 1386.9 KiB\n",
      "22/05/02 22:35:33 WARN DAGScheduler: Broadcasting large task binary with size 1461.4 KiB\n",
      "22/05/02 22:35:33 WARN DAGScheduler: Broadcasting large task binary with size 1521.2 KiB\n",
      "22/05/02 22:35:33 WARN DAGScheduler: Broadcasting large task binary with size 1566.9 KiB\n",
      "22/05/02 22:35:33 WARN DAGScheduler: Broadcasting large task binary with size 1601.7 KiB\n",
      "22/05/02 22:35:33 WARN DAGScheduler: Broadcasting large task binary with size 1627.6 KiB\n",
      "22/05/02 22:35:33 WARN DAGScheduler: Broadcasting large task binary with size 1646.9 KiB\n",
      "22/05/02 22:35:33 WARN DAGScheduler: Broadcasting large task binary with size 1660.4 KiB\n",
      "22/05/02 22:35:34 WARN DAGScheduler: Broadcasting large task binary with size 1024.8 KiB\n",
      "22/05/02 22:35:36 WARN DAGScheduler: Broadcasting large task binary with size 1069.4 KiB\n",
      "22/05/02 22:35:36 WARN DAGScheduler: Broadcasting large task binary with size 1167.3 KiB\n",
      "22/05/02 22:35:36 WARN DAGScheduler: Broadcasting large task binary with size 1258.3 KiB\n",
      "22/05/02 22:35:36 WARN DAGScheduler: Broadcasting large task binary with size 1340.1 KiB\n",
      "22/05/02 22:35:36 WARN DAGScheduler: Broadcasting large task binary with size 1413.6 KiB\n",
      "22/05/02 22:35:37 WARN DAGScheduler: Broadcasting large task binary with size 1476.5 KiB\n",
      "22/05/02 22:35:37 WARN DAGScheduler: Broadcasting large task binary with size 1529.5 KiB\n",
      "22/05/02 22:35:37 WARN DAGScheduler: Broadcasting large task binary with size 1569.6 KiB\n",
      "22/05/02 22:35:37 WARN DAGScheduler: Broadcasting large task binary with size 1600.8 KiB\n",
      "22/05/02 22:35:37 WARN DAGScheduler: Broadcasting large task binary with size 1624.6 KiB\n",
      "22/05/02 22:35:37 WARN DAGScheduler: Broadcasting large task binary with size 1643.9 KiB\n",
      "22/05/02 22:35:37 WARN DAGScheduler: Broadcasting large task binary with size 1017.1 KiB\n",
      "22/05/02 22:35:53 WARN DAGScheduler: Broadcasting large task binary with size 1089.4 KiB\n",
      "22/05/02 22:35:53 WARN DAGScheduler: Broadcasting large task binary with size 1208.6 KiB\n",
      "22/05/02 22:35:55 WARN DAGScheduler: Broadcasting large task binary with size 1062.0 KiB\n",
      "22/05/02 22:35:55 WARN DAGScheduler: Broadcasting large task binary with size 1186.3 KiB\n",
      "22/05/02 22:35:58 WARN DAGScheduler: Broadcasting large task binary with size 1075.1 KiB\n",
      "22/05/02 22:36:00 WARN DAGScheduler: Broadcasting large task binary with size 1073.0 KiB\n",
      "22/05/02 22:36:03 WARN DAGScheduler: Broadcasting large task binary with size 1061.3 KiB\n",
      "22/05/02 22:36:05 WARN DAGScheduler: Broadcasting large task binary with size 1089.4 KiB\n",
      "22/05/02 22:36:05 WARN DAGScheduler: Broadcasting large task binary with size 1208.6 KiB\n",
      "22/05/02 22:36:05 WARN DAGScheduler: Broadcasting large task binary with size 1322.1 KiB\n",
      "22/05/02 22:36:05 WARN DAGScheduler: Broadcasting large task binary with size 1425.5 KiB\n",
      "22/05/02 22:36:06 WARN DAGScheduler: Broadcasting large task binary with size 1514.6 KiB\n",
      "22/05/02 22:36:06 WARN DAGScheduler: Broadcasting large task binary with size 1594.8 KiB\n",
      "22/05/02 22:36:06 WARN DAGScheduler: Broadcasting large task binary with size 1658.0 KiB\n",
      "22/05/02 22:36:06 WARN DAGScheduler: Broadcasting large task binary with size 1706.3 KiB\n",
      "22/05/02 22:36:06 WARN DAGScheduler: Broadcasting large task binary with size 1742.7 KiB\n",
      "22/05/02 22:36:06 WARN DAGScheduler: Broadcasting large task binary with size 1770.9 KiB\n",
      "22/05/02 22:36:06 WARN DAGScheduler: Broadcasting large task binary with size 1789.3 KiB\n",
      "22/05/02 22:36:06 WARN DAGScheduler: Broadcasting large task binary with size 1802.1 KiB\n",
      "22/05/02 22:36:06 WARN DAGScheduler: Broadcasting large task binary with size 1098.5 KiB\n",
      "22/05/02 22:36:08 WARN DAGScheduler: Broadcasting large task binary with size 1062.0 KiB\n",
      "22/05/02 22:36:08 WARN DAGScheduler: Broadcasting large task binary with size 1186.3 KiB\n",
      "22/05/02 22:36:08 WARN DAGScheduler: Broadcasting large task binary with size 1300.5 KiB\n",
      "22/05/02 22:36:09 WARN DAGScheduler: Broadcasting large task binary with size 1397.2 KiB\n",
      "22/05/02 22:36:09 WARN DAGScheduler: Broadcasting large task binary with size 1477.9 KiB\n",
      "22/05/02 22:36:09 WARN DAGScheduler: Broadcasting large task binary with size 1545.0 KiB\n",
      "22/05/02 22:36:09 WARN DAGScheduler: Broadcasting large task binary with size 1600.7 KiB\n",
      "22/05/02 22:36:09 WARN DAGScheduler: Broadcasting large task binary with size 1644.0 KiB\n",
      "22/05/02 22:36:09 WARN DAGScheduler: Broadcasting large task binary with size 1674.0 KiB\n",
      "22/05/02 22:36:09 WARN DAGScheduler: Broadcasting large task binary with size 1695.1 KiB\n",
      "22/05/02 22:36:09 WARN DAGScheduler: Broadcasting large task binary with size 1712.4 KiB\n",
      "22/05/02 22:36:09 WARN DAGScheduler: Broadcasting large task binary with size 1724.2 KiB\n",
      "22/05/02 22:36:10 WARN DAGScheduler: Broadcasting large task binary with size 1063.3 KiB\n",
      "22/05/02 22:36:12 WARN DAGScheduler: Broadcasting large task binary with size 1075.1 KiB\n",
      "22/05/02 22:36:13 WARN DAGScheduler: Broadcasting large task binary with size 1171.0 KiB\n",
      "22/05/02 22:36:13 WARN DAGScheduler: Broadcasting large task binary with size 1252.3 KiB\n",
      "22/05/02 22:36:13 WARN DAGScheduler: Broadcasting large task binary with size 1327.4 KiB\n",
      "22/05/02 22:36:13 WARN DAGScheduler: Broadcasting large task binary with size 1394.8 KiB\n",
      "22/05/02 22:36:13 WARN DAGScheduler: Broadcasting large task binary with size 1450.8 KiB\n",
      "22/05/02 22:36:13 WARN DAGScheduler: Broadcasting large task binary with size 1499.5 KiB\n",
      "22/05/02 22:36:13 WARN DAGScheduler: Broadcasting large task binary with size 1543.7 KiB\n"
     ]
    },
    {
     "name": "stderr",
     "output_type": "stream",
     "text": [
      "22/05/02 22:36:13 WARN DAGScheduler: Broadcasting large task binary with size 1579.4 KiB\n",
      "22/05/02 22:36:14 WARN DAGScheduler: Broadcasting large task binary with size 1608.3 KiB\n",
      "22/05/02 22:36:14 WARN DAGScheduler: Broadcasting large task binary with size 1629.1 KiB\n",
      "22/05/02 22:36:14 WARN DAGScheduler: Broadcasting large task binary with size 1008.8 KiB\n",
      "22/05/02 22:36:17 WARN DAGScheduler: Broadcasting large task binary with size 1073.0 KiB\n",
      "22/05/02 22:36:17 WARN DAGScheduler: Broadcasting large task binary with size 1172.6 KiB\n",
      "22/05/02 22:36:17 WARN DAGScheduler: Broadcasting large task binary with size 1257.8 KiB\n",
      "22/05/02 22:36:17 WARN DAGScheduler: Broadcasting large task binary with size 1332.7 KiB\n",
      "22/05/02 22:36:17 WARN DAGScheduler: Broadcasting large task binary with size 1403.5 KiB\n",
      "22/05/02 22:36:18 WARN DAGScheduler: Broadcasting large task binary with size 1460.4 KiB\n",
      "22/05/02 22:36:18 WARN DAGScheduler: Broadcasting large task binary with size 1509.1 KiB\n",
      "22/05/02 22:36:18 WARN DAGScheduler: Broadcasting large task binary with size 1548.2 KiB\n",
      "22/05/02 22:36:18 WARN DAGScheduler: Broadcasting large task binary with size 1583.5 KiB\n",
      "22/05/02 22:36:18 WARN DAGScheduler: Broadcasting large task binary with size 1607.6 KiB\n",
      "22/05/02 22:36:18 WARN DAGScheduler: Broadcasting large task binary with size 1622.2 KiB\n",
      "22/05/02 22:36:18 WARN DAGScheduler: Broadcasting large task binary with size 1008.0 KiB\n",
      "22/05/02 22:36:21 WARN DAGScheduler: Broadcasting large task binary with size 1061.3 KiB\n",
      "22/05/02 22:36:21 WARN DAGScheduler: Broadcasting large task binary with size 1166.2 KiB\n",
      "22/05/02 22:36:21 WARN DAGScheduler: Broadcasting large task binary with size 1255.4 KiB\n",
      "22/05/02 22:36:21 WARN DAGScheduler: Broadcasting large task binary with size 1329.3 KiB\n",
      "22/05/02 22:36:22 WARN DAGScheduler: Broadcasting large task binary with size 1397.0 KiB\n",
      "22/05/02 22:36:22 WARN DAGScheduler: Broadcasting large task binary with size 1450.1 KiB\n",
      "22/05/02 22:36:22 WARN DAGScheduler: Broadcasting large task binary with size 1495.9 KiB\n",
      "22/05/02 22:36:22 WARN DAGScheduler: Broadcasting large task binary with size 1536.1 KiB\n",
      "22/05/02 22:36:22 WARN DAGScheduler: Broadcasting large task binary with size 1567.4 KiB\n",
      "22/05/02 22:36:22 WARN DAGScheduler: Broadcasting large task binary with size 1589.0 KiB\n",
      "22/05/02 22:36:22 WARN DAGScheduler: Broadcasting large task binary with size 1604.9 KiB\n",
      "22/05/02 22:36:38 WARN DAGScheduler: Broadcasting large task binary with size 1008.0 KiB\n",
      "22/05/02 22:36:38 WARN DAGScheduler: Broadcasting large task binary with size 1132.9 KiB\n",
      "22/05/02 22:36:38 WARN DAGScheduler: Broadcasting large task binary with size 1253.0 KiB\n",
      "22/05/02 22:36:40 WARN DAGScheduler: Broadcasting large task binary with size 1082.0 KiB\n",
      "22/05/02 22:36:40 WARN DAGScheduler: Broadcasting large task binary with size 1204.8 KiB\n",
      "22/05/02 22:36:43 WARN DAGScheduler: Broadcasting large task binary with size 1096.5 KiB\n",
      "22/05/02 22:36:45 WARN DAGScheduler: Broadcasting large task binary with size 1080.1 KiB\n",
      "22/05/02 22:36:48 WARN DAGScheduler: Broadcasting large task binary with size 1075.7 KiB\n",
      "22/05/02 22:36:49 WARN DAGScheduler: Broadcasting large task binary with size 1008.0 KiB\n",
      "22/05/02 22:36:50 WARN DAGScheduler: Broadcasting large task binary with size 1132.9 KiB\n",
      "22/05/02 22:36:50 WARN DAGScheduler: Broadcasting large task binary with size 1253.0 KiB\n",
      "22/05/02 22:36:50 WARN DAGScheduler: Broadcasting large task binary with size 1359.9 KiB\n",
      "22/05/02 22:36:50 WARN DAGScheduler: Broadcasting large task binary with size 1452.2 KiB\n",
      "22/05/02 22:36:50 WARN DAGScheduler: Broadcasting large task binary with size 1536.8 KiB\n",
      "22/05/02 22:36:50 WARN DAGScheduler: Broadcasting large task binary with size 1611.9 KiB\n",
      "22/05/02 22:36:50 WARN DAGScheduler: Broadcasting large task binary with size 1676.6 KiB\n",
      "22/05/02 22:36:50 WARN DAGScheduler: Broadcasting large task binary with size 1727.9 KiB\n",
      "22/05/02 22:36:50 WARN DAGScheduler: Broadcasting large task binary with size 1766.0 KiB\n",
      "22/05/02 22:36:51 WARN DAGScheduler: Broadcasting large task binary with size 1795.2 KiB\n",
      "22/05/02 22:36:51 WARN DAGScheduler: Broadcasting large task binary with size 1816.3 KiB\n",
      "22/05/02 22:36:51 WARN DAGScheduler: Broadcasting large task binary with size 1832.0 KiB\n",
      "22/05/02 22:36:51 WARN DAGScheduler: Broadcasting large task binary with size 1111.8 KiB\n",
      "22/05/02 22:36:53 WARN DAGScheduler: Broadcasting large task binary with size 1082.0 KiB\n",
      "22/05/02 22:36:53 WARN DAGScheduler: Broadcasting large task binary with size 1204.8 KiB\n",
      "22/05/02 22:36:53 WARN DAGScheduler: Broadcasting large task binary with size 1316.5 KiB\n",
      "22/05/02 22:36:53 WARN DAGScheduler: Broadcasting large task binary with size 1415.0 KiB\n",
      "22/05/02 22:36:53 WARN DAGScheduler: Broadcasting large task binary with size 1502.6 KiB\n",
      "22/05/02 22:36:53 WARN DAGScheduler: Broadcasting large task binary with size 1574.0 KiB\n",
      "22/05/02 22:36:53 WARN DAGScheduler: Broadcasting large task binary with size 1626.9 KiB\n",
      "22/05/02 22:36:54 WARN DAGScheduler: Broadcasting large task binary with size 1666.7 KiB\n",
      "22/05/02 22:36:54 WARN DAGScheduler: Broadcasting large task binary with size 1690.4 KiB\n",
      "22/05/02 22:36:54 WARN DAGScheduler: Broadcasting large task binary with size 1705.4 KiB\n",
      "22/05/02 22:36:54 WARN DAGScheduler: Broadcasting large task binary with size 1715.6 KiB\n",
      "22/05/02 22:36:54 WARN DAGScheduler: Broadcasting large task binary with size 1721.0 KiB\n",
      "22/05/02 22:36:54 WARN DAGScheduler: Broadcasting large task binary with size 1058.3 KiB\n",
      "22/05/02 22:36:56 WARN DAGScheduler: Broadcasting large task binary with size 1096.5 KiB\n",
      "22/05/02 22:36:56 WARN DAGScheduler: Broadcasting large task binary with size 1199.0 KiB\n",
      "22/05/02 22:36:57 WARN DAGScheduler: Broadcasting large task binary with size 1295.9 KiB\n",
      "22/05/02 22:36:57 WARN DAGScheduler: Broadcasting large task binary with size 1385.3 KiB\n",
      "22/05/02 22:36:57 WARN DAGScheduler: Broadcasting large task binary with size 1454.9 KiB\n",
      "22/05/02 22:36:57 WARN DAGScheduler: Broadcasting large task binary with size 1513.2 KiB\n",
      "22/05/02 22:36:57 WARN DAGScheduler: Broadcasting large task binary with size 1559.9 KiB\n",
      "22/05/02 22:36:57 WARN DAGScheduler: Broadcasting large task binary with size 1595.8 KiB\n",
      "22/05/02 22:36:57 WARN DAGScheduler: Broadcasting large task binary with size 1619.9 KiB\n",
      "22/05/02 22:36:58 WARN DAGScheduler: Broadcasting large task binary with size 1633.9 KiB\n",
      "22/05/02 22:36:58 WARN DAGScheduler: Broadcasting large task binary with size 1644.2 KiB\n",
      "22/05/02 22:36:58 WARN DAGScheduler: Broadcasting large task binary with size 1018.0 KiB\n",
      "22/05/02 22:37:01 WARN DAGScheduler: Broadcasting large task binary with size 1080.1 KiB\n",
      "22/05/02 22:37:01 WARN DAGScheduler: Broadcasting large task binary with size 1174.2 KiB\n",
      "22/05/02 22:37:01 WARN DAGScheduler: Broadcasting large task binary with size 1262.0 KiB\n",
      "22/05/02 22:37:01 WARN DAGScheduler: Broadcasting large task binary with size 1343.4 KiB\n",
      "22/05/02 22:37:01 WARN DAGScheduler: Broadcasting large task binary with size 1411.8 KiB\n",
      "22/05/02 22:37:01 WARN DAGScheduler: Broadcasting large task binary with size 1468.7 KiB\n",
      "22/05/02 22:37:02 WARN DAGScheduler: Broadcasting large task binary with size 1519.8 KiB\n",
      "22/05/02 22:37:02 WARN DAGScheduler: Broadcasting large task binary with size 1558.6 KiB\n",
      "22/05/02 22:37:02 WARN DAGScheduler: Broadcasting large task binary with size 1585.9 KiB\n",
      "22/05/02 22:37:02 WARN DAGScheduler: Broadcasting large task binary with size 1603.5 KiB\n",
      "22/05/02 22:37:02 WARN DAGScheduler: Broadcasting large task binary with size 1617.4 KiB\n",
      "22/05/02 22:37:02 WARN DAGScheduler: Broadcasting large task binary with size 1003.8 KiB\n",
      "22/05/02 22:37:05 WARN DAGScheduler: Broadcasting large task binary with size 1075.7 KiB\n",
      "22/05/02 22:37:05 WARN DAGScheduler: Broadcasting large task binary with size 1170.1 KiB\n",
      "22/05/02 22:37:05 WARN DAGScheduler: Broadcasting large task binary with size 1257.7 KiB\n",
      "22/05/02 22:37:06 WARN DAGScheduler: Broadcasting large task binary with size 1337.2 KiB\n",
      "22/05/02 22:37:06 WARN DAGScheduler: Broadcasting large task binary with size 1406.4 KiB\n",
      "22/05/02 22:37:06 WARN DAGScheduler: Broadcasting large task binary with size 1464.7 KiB\n",
      "22/05/02 22:37:06 WARN DAGScheduler: Broadcasting large task binary with size 1510.4 KiB\n",
      "22/05/02 22:37:06 WARN DAGScheduler: Broadcasting large task binary with size 1543.5 KiB\n"
     ]
    },
    {
     "name": "stderr",
     "output_type": "stream",
     "text": [
      "22/05/02 22:37:06 WARN DAGScheduler: Broadcasting large task binary with size 1569.2 KiB\n",
      "22/05/02 22:37:06 WARN DAGScheduler: Broadcasting large task binary with size 1591.8 KiB\n",
      "22/05/02 22:37:06 WARN DAGScheduler: Broadcasting large task binary with size 1607.5 KiB\n",
      "22/05/02 22:37:20 WARN DAGScheduler: Broadcasting large task binary with size 1117.2 KiB\n",
      "22/05/02 22:37:20 WARN DAGScheduler: Broadcasting large task binary with size 1257.3 KiB\n",
      "22/05/02 22:37:22 WARN DAGScheduler: Broadcasting large task binary with size 1036.9 KiB\n",
      "22/05/02 22:37:22 WARN DAGScheduler: Broadcasting large task binary with size 1166.4 KiB\n",
      "22/05/02 22:37:25 WARN DAGScheduler: Broadcasting large task binary with size 1101.2 KiB\n",
      "22/05/02 22:37:27 WARN DAGScheduler: Broadcasting large task binary with size 1062.3 KiB\n",
      "22/05/02 22:37:29 WARN DAGScheduler: Broadcasting large task binary with size 1053.2 KiB\n",
      "22/05/02 22:37:31 WARN DAGScheduler: Broadcasting large task binary with size 1117.2 KiB\n",
      "22/05/02 22:37:31 WARN DAGScheduler: Broadcasting large task binary with size 1257.3 KiB\n",
      "22/05/02 22:37:31 WARN DAGScheduler: Broadcasting large task binary with size 1381.1 KiB\n",
      "22/05/02 22:37:32 WARN DAGScheduler: Broadcasting large task binary with size 1493.3 KiB\n",
      "22/05/02 22:37:32 WARN DAGScheduler: Broadcasting large task binary with size 1589.1 KiB\n",
      "22/05/02 22:37:32 WARN DAGScheduler: Broadcasting large task binary with size 1662.2 KiB\n",
      "22/05/02 22:37:32 WARN DAGScheduler: Broadcasting large task binary with size 1720.9 KiB\n",
      "22/05/02 22:37:32 WARN DAGScheduler: Broadcasting large task binary with size 1768.2 KiB\n",
      "22/05/02 22:37:32 WARN DAGScheduler: Broadcasting large task binary with size 1801.2 KiB\n",
      "22/05/02 22:37:32 WARN DAGScheduler: Broadcasting large task binary with size 1824.9 KiB\n",
      "22/05/02 22:37:32 WARN DAGScheduler: Broadcasting large task binary with size 1838.6 KiB\n",
      "22/05/02 22:37:32 WARN DAGScheduler: Broadcasting large task binary with size 1846.1 KiB\n",
      "22/05/02 22:37:33 WARN DAGScheduler: Broadcasting large task binary with size 1121.4 KiB\n",
      "22/05/02 22:37:34 WARN DAGScheduler: Broadcasting large task binary with size 1036.9 KiB\n",
      "22/05/02 22:37:34 WARN DAGScheduler: Broadcasting large task binary with size 1166.4 KiB\n",
      "22/05/02 22:37:34 WARN DAGScheduler: Broadcasting large task binary with size 1298.3 KiB\n",
      "22/05/02 22:37:34 WARN DAGScheduler: Broadcasting large task binary with size 1414.3 KiB\n",
      "22/05/02 22:37:35 WARN DAGScheduler: Broadcasting large task binary with size 1511.2 KiB\n",
      "22/05/02 22:37:35 WARN DAGScheduler: Broadcasting large task binary with size 1584.7 KiB\n",
      "22/05/02 22:37:35 WARN DAGScheduler: Broadcasting large task binary with size 1639.6 KiB\n",
      "22/05/02 22:37:35 WARN DAGScheduler: Broadcasting large task binary with size 1678.7 KiB\n",
      "22/05/02 22:37:35 WARN DAGScheduler: Broadcasting large task binary with size 1707.2 KiB\n",
      "22/05/02 22:37:35 WARN DAGScheduler: Broadcasting large task binary with size 1726.1 KiB\n",
      "22/05/02 22:37:35 WARN DAGScheduler: Broadcasting large task binary with size 1736.2 KiB\n",
      "22/05/02 22:37:35 WARN DAGScheduler: Broadcasting large task binary with size 1741.8 KiB\n",
      "22/05/02 22:37:35 WARN DAGScheduler: Broadcasting large task binary with size 1069.5 KiB\n",
      "22/05/02 22:37:37 WARN DAGScheduler: Broadcasting large task binary with size 1101.2 KiB\n",
      "22/05/02 22:37:37 WARN DAGScheduler: Broadcasting large task binary with size 1213.9 KiB\n",
      "22/05/02 22:37:38 WARN DAGScheduler: Broadcasting large task binary with size 1321.9 KiB\n",
      "22/05/02 22:37:38 WARN DAGScheduler: Broadcasting large task binary with size 1417.4 KiB\n",
      "22/05/02 22:37:38 WARN DAGScheduler: Broadcasting large task binary with size 1500.0 KiB\n",
      "22/05/02 22:37:38 WARN DAGScheduler: Broadcasting large task binary with size 1561.6 KiB\n",
      "22/05/02 22:37:38 WARN DAGScheduler: Broadcasting large task binary with size 1606.6 KiB\n",
      "22/05/02 22:37:38 WARN DAGScheduler: Broadcasting large task binary with size 1639.5 KiB\n",
      "22/05/02 22:37:38 WARN DAGScheduler: Broadcasting large task binary with size 1660.2 KiB\n",
      "22/05/02 22:37:38 WARN DAGScheduler: Broadcasting large task binary with size 1673.5 KiB\n",
      "22/05/02 22:37:39 WARN DAGScheduler: Broadcasting large task binary with size 1682.6 KiB\n",
      "22/05/02 22:37:39 WARN DAGScheduler: Broadcasting large task binary with size 1042.2 KiB\n",
      "22/05/02 22:37:41 WARN DAGScheduler: Broadcasting large task binary with size 1062.3 KiB\n",
      "22/05/02 22:37:41 WARN DAGScheduler: Broadcasting large task binary with size 1161.9 KiB\n",
      "22/05/02 22:37:41 WARN DAGScheduler: Broadcasting large task binary with size 1255.4 KiB\n",
      "22/05/02 22:37:41 WARN DAGScheduler: Broadcasting large task binary with size 1343.7 KiB\n",
      "22/05/02 22:37:42 WARN DAGScheduler: Broadcasting large task binary with size 1424.8 KiB\n",
      "22/05/02 22:37:42 WARN DAGScheduler: Broadcasting large task binary with size 1489.0 KiB\n",
      "22/05/02 22:37:42 WARN DAGScheduler: Broadcasting large task binary with size 1538.7 KiB\n",
      "22/05/02 22:37:42 WARN DAGScheduler: Broadcasting large task binary with size 1575.7 KiB\n",
      "22/05/02 22:37:42 WARN DAGScheduler: Broadcasting large task binary with size 1606.6 KiB\n",
      "22/05/02 22:37:42 WARN DAGScheduler: Broadcasting large task binary with size 1631.3 KiB\n",
      "22/05/02 22:37:42 WARN DAGScheduler: Broadcasting large task binary with size 1649.2 KiB\n",
      "22/05/02 22:37:42 WARN DAGScheduler: Broadcasting large task binary with size 1021.5 KiB\n",
      "22/05/02 22:37:45 WARN DAGScheduler: Broadcasting large task binary with size 1053.2 KiB\n",
      "22/05/02 22:37:45 WARN DAGScheduler: Broadcasting large task binary with size 1153.0 KiB\n",
      "22/05/02 22:37:46 WARN DAGScheduler: Broadcasting large task binary with size 1245.3 KiB\n",
      "22/05/02 22:37:46 WARN DAGScheduler: Broadcasting large task binary with size 1326.4 KiB\n",
      "22/05/02 22:37:46 WARN DAGScheduler: Broadcasting large task binary with size 1400.2 KiB\n",
      "22/05/02 22:37:46 WARN DAGScheduler: Broadcasting large task binary with size 1463.8 KiB\n",
      "22/05/02 22:37:46 WARN DAGScheduler: Broadcasting large task binary with size 1516.3 KiB\n",
      "22/05/02 22:37:46 WARN DAGScheduler: Broadcasting large task binary with size 1558.7 KiB\n",
      "22/05/02 22:37:47 WARN DAGScheduler: Broadcasting large task binary with size 1595.9 KiB\n",
      "22/05/02 22:37:47 WARN DAGScheduler: Broadcasting large task binary with size 1625.7 KiB\n",
      "22/05/02 22:37:47 WARN DAGScheduler: Broadcasting large task binary with size 1646.3 KiB\n",
      "22/05/02 22:37:47 WARN DAGScheduler: Broadcasting large task binary with size 1021.4 KiB\n",
      "22/05/02 22:37:51 WARN DAGScheduler: Broadcasting large task binary with size 1012.0 KiB\n",
      "22/05/02 22:37:52 WARN DAGScheduler: Broadcasting large task binary with size 1156.4 KiB\n",
      "22/05/02 22:37:52 WARN DAGScheduler: Broadcasting large task binary with size 1292.2 KiB\n"
     ]
    },
    {
     "name": "stdout",
     "output_type": "stream",
     "text": [
      "+----------+--------+--------------------+\n",
      "|prediction|Severity|            features|\n",
      "+----------+--------+--------------------+\n",
      "|       2.0|       2|(37,[0,1,2,3,7,11...|\n",
      "|       3.0|       4|(37,[0,1,2,3,7,11...|\n",
      "|       2.0|       2|(37,[0,1,2,3,7,11...|\n",
      "|       2.0|       2|(37,[0,1,2,3,7,11...|\n",
      "|       2.0|       2|(37,[0,1,2,3,7,11...|\n",
      "+----------+--------+--------------------+\n",
      "only showing top 5 rows\n",
      "\n"
     ]
    }
   ],
   "source": [
    "dtc = DecisionTreeClassifier(featuresCol = 'features', labelCol = 'Severity') # , maxDepth = 3\n",
    "\n",
    "evaluator = MulticlassClassificationEvaluator(labelCol=\"Severity\", predictionCol=\"prediction\")\n",
    "\n",
    "# Create ParamGrid for Cross Validation\n",
    "dtparamGrid = (ParamGridBuilder()\n",
    "             .addGrid(dtc.maxDepth, [2, 5, 10, 20, 30])\n",
    "             .addGrid(dtc.maxBins, [10, 20, 40, 80, 100])\n",
    "             .build())\n",
    "\n",
    "# Create 5-fold CrossValidator\n",
    "dtcv = CrossValidator(estimator = dtc,\n",
    "                      estimatorParamMaps = dtparamGrid,\n",
    "                      evaluator = evaluator,\n",
    "                      numFolds = 5)\n",
    "\n",
    "# Train model.  This also runs the indexer.\n",
    "dt_model = dtcv.fit(trainingData)\n",
    "\n",
    "# Make predictions.\n",
    "dt_preds = dt_model.transform(testData)\n",
    "\n",
    "# Select example rows to display.\n",
    "dt_preds.select(\"prediction\", \"Severity\", \"features\").show(5)"
   ]
  },
  {
   "cell_type": "markdown",
   "metadata": {
    "id": "sXNppUPMBhpi"
   },
   "source": [
    "#### Genauigkeit"
   ]
  },
  {
   "cell_type": "code",
   "execution_count": 11,
   "metadata": {
    "colab": {
     "base_uri": "https://localhost:8080/"
    },
    "executionInfo": {
     "elapsed": 3750,
     "status": "ok",
     "timestamp": 1651085972898,
     "user": {
      "displayName": "Herbi Shtini",
      "userId": "03158017251313112277"
     },
     "user_tz": -120
    },
    "id": "cwMdBW5-wx3J",
    "outputId": "772da1fe-68a3-44e4-fe46-0c78b3d21070"
   },
   "outputs": [
    {
     "name": "stdout",
     "output_type": "stream",
     "text": [
      "Accuracy 0.844696\n"
     ]
    }
   ],
   "source": [
    "acc = evaluator.evaluate(dt_preds, {evaluator.metricName: \"accuracy\"})\n",
    "print(\"Accuracy %g\" % acc)"
   ]
  },
  {
   "cell_type": "markdown",
   "metadata": {
    "id": "8O65-h1D-8OJ"
   },
   "source": [
    "#### F1, Weighted Precision, Weighted Recall"
   ]
  },
  {
   "cell_type": "code",
   "execution_count": 12,
   "metadata": {
    "colab": {
     "base_uri": "https://localhost:8080/"
    },
    "executionInfo": {
     "elapsed": 9839,
     "status": "ok",
     "timestamp": 1651085982733,
     "user": {
      "displayName": "Herbi Shtini",
      "userId": "03158017251313112277"
     },
     "user_tz": -120
    },
    "id": "hkMioLL0-934",
    "outputId": "3b2c4f1c-abe0-436f-be37-f3c236f9466f"
   },
   "outputs": [
    {
     "name": "stdout",
     "output_type": "stream",
     "text": [
      "MultiClass F1 -------------------------------: 0.834352\n",
      "MultiClass Weighted Precision ---------------: 0.826727\n",
      "MultiClass Weighted Recall ------------------: 0.844696\n"
     ]
    }
   ],
   "source": [
    "# Select (prediction, true label) and compute test error\n",
    "\n",
    "lRf1=evaluator.evaluate(dt_preds, {evaluator.metricName: \"f1\"})\n",
    "print(\"MultiClass F1 -------------------------------: %g\"%lRf1)\n",
    "lRwP=evaluator.evaluate(dt_preds, {evaluator.metricName: \"weightedPrecision\"})\n",
    "print(\"MultiClass Weighted Precision ---------------: %g\"%lRwP)\n",
    "lRwR=evaluator.evaluate(dt_preds, {evaluator.metricName: \"weightedRecall\"})\n",
    "print(\"MultiClass Weighted Recall ------------------: %g\"%lRwR)"
   ]
  },
  {
   "cell_type": "code",
   "execution_count": 13,
   "metadata": {
    "colab": {
     "base_uri": "https://localhost:8080/"
    },
    "executionInfo": {
     "elapsed": 183,
     "status": "ok",
     "timestamp": 1651086109985,
     "user": {
      "displayName": "Herbi Shtini",
      "userId": "03158017251313112277"
     },
     "user_tz": -120
    },
    "id": "M2fOfWoz84cL",
    "outputId": "766f31d5-eef6-4a21-8af1-46e56d6769d0"
   },
   "outputs": [
    {
     "data": {
      "text/plain": [
       "DecisionTreeClassificationModel: uid=DecisionTreeClassifier_9fd2a333d452, depth=20, numNodes=7769, numClasses=5, numFeatures=37"
      ]
     },
     "execution_count": 13,
     "metadata": {},
     "output_type": "execute_result"
    }
   ],
   "source": [
    "dt_model.bestModel"
   ]
  },
  {
   "cell_type": "code",
   "execution_count": 14,
   "metadata": {
    "colab": {
     "base_uri": "https://localhost:8080/",
     "height": 351
    },
    "executionInfo": {
     "elapsed": 717,
     "status": "ok",
     "timestamp": 1651086113998,
     "user": {
      "displayName": "Herbi Shtini",
      "userId": "03158017251313112277"
     },
     "user_tz": -120
    },
    "id": "e2g468z1HXZJ",
    "outputId": "71d3d373-9656-4c05-e71d-ef94532bba10"
   },
   "outputs": [
    {
     "data": {
      "image/png": "[encoded data removed]",
      "text/plain": [
       "<Figure size 1080x360 with 1 Axes>"
      ]
     },
     "metadata": {
      "needs_background": "light"
     },
     "output_type": "display_data"
    }
   ],
   "source": [
    "plotFeatureImportance(getFilteredImportances(dt_model.bestModel.featureImportances.toArray()))"
   ]
  },
  {
   "cell_type": "code",
   "execution_count": 15,
   "metadata": {
    "colab": {
     "base_uri": "https://localhost:8080/",
     "height": 297
    },
    "executionInfo": {
     "elapsed": 6685,
     "status": "ok",
     "timestamp": 1650748817507,
     "user": {
      "displayName": "Herbi Shtini",
      "userId": "03158017251313112277"
     },
     "user_tz": -120
    },
    "id": "NJfM2Wn2kjZN",
    "outputId": "aa74ed94-3de4-483f-c56b-c9401aed4834"
   },
   "outputs": [
    {
     "name": "stderr",
     "output_type": "stream",
     "text": [
      "\r",
      "[Stage 4542:============================>                           (1 + 1) / 2]\r",
      "\r",
      "                                                                                \r"
     ]
    },
    {
     "data": {
      "text/plain": [
       "<sklearn.metrics._plot.confusion_matrix.ConfusionMatrixDisplay at 0x7fb2e8d99f40>"
      ]
     },
     "execution_count": 15,
     "metadata": {},
     "output_type": "execute_result"
    },
    {
     "data": {
      "image/png": "[encoded data removed]",
      "text/plain": [
       "<Figure size 432x288 with 2 Axes>"
      ]
     },
     "metadata": {
      "needs_background": "light"
     },
     "output_type": "display_data"
    }
   ],
   "source": [
    "conf_dt_sev = dt_preds.select('Severity').toPandas()\n",
    "conf_dt_pred = dt_preds.select('prediction').toPandas()\n",
    "\n",
    "dt_cm = confusion_matrix(conf_dt_sev, conf_dt_pred, normalize='all')\n",
    "dt_cmd = ConfusionMatrixDisplay(dt_cm, display_labels=[1, 2, 3, 4])\n",
    "\n",
    "dt_cmd.plot()"
   ]
  },
  {
   "cell_type": "markdown",
   "metadata": {
    "id": "vq0xoyhukG9G"
   },
   "source": [
    "### MLP"
   ]
  },
  {
   "cell_type": "code",
   "execution_count": 16,
   "metadata": {
    "colab": {
     "base_uri": "https://localhost:8080/",
     "height": 442
    },
    "executionInfo": {
     "elapsed": 23967,
     "status": "error",
     "timestamp": 1650794560935,
     "user": {
      "displayName": "Herbi Shtini",
      "userId": "03158017251313112277"
     },
     "user_tz": -120
    },
    "id": "XzmXuVdel5N4",
    "outputId": "87d2a461-eb3e-4c93-95e8-4a7e1222ec3b"
   },
   "outputs": [
    {
     "name": "stderr",
     "output_type": "stream",
     "text": [
      "22/05/02 22:37:59 WARN InstanceBuilder$NativeBLAS: Failed to load implementation from:dev.ludovic.netlib.blas.JNIBLAS\n",
      "22/05/02 22:37:59 WARN InstanceBuilder$NativeBLAS: Failed to load implementation from:dev.ludovic.netlib.blas.ForeignLinkerBLAS\n",
      "22/05/02 22:38:00 WARN BLAS: Failed to load implementation from: com.github.fommil.netlib.NativeSystemBLAS\n",
      "22/05/02 22:38:00 WARN BLAS: Failed to load implementation from: com.github.fommil.netlib.NativeRefBLAS\n",
      "                                                                                \r"
     ]
    },
    {
     "ename": "KeyboardInterrupt",
     "evalue": "",
     "output_type": "error",
     "traceback": [
      "\u001b[0;31m---------------------------------------------------------------------------\u001b[0m",
      "\u001b[0;31mIndexError\u001b[0m                                Traceback (most recent call last)",
      "\u001b[0;32m~/opt/anaconda3/lib/python3.9/multiprocessing/pool.py\u001b[0m in \u001b[0;36mnext\u001b[0;34m(self, timeout)\u001b[0m\n\u001b[1;32m    852\u001b[0m             \u001b[0;32mtry\u001b[0m\u001b[0;34m:\u001b[0m\u001b[0;34m\u001b[0m\u001b[0;34m\u001b[0m\u001b[0m\n\u001b[0;32m--> 853\u001b[0;31m                 \u001b[0mitem\u001b[0m \u001b[0;34m=\u001b[0m \u001b[0mself\u001b[0m\u001b[0;34m.\u001b[0m\u001b[0m_items\u001b[0m\u001b[0;34m.\u001b[0m\u001b[0mpopleft\u001b[0m\u001b[0;34m(\u001b[0m\u001b[0;34m)\u001b[0m\u001b[0;34m\u001b[0m\u001b[0;34m\u001b[0m\u001b[0m\n\u001b[0m\u001b[1;32m    854\u001b[0m             \u001b[0;32mexcept\u001b[0m \u001b[0mIndexError\u001b[0m\u001b[0;34m:\u001b[0m\u001b[0;34m\u001b[0m\u001b[0;34m\u001b[0m\u001b[0m\n",
      "\u001b[0;31mIndexError\u001b[0m: pop from an empty deque",
      "\nDuring handling of the above exception, another exception occurred:\n",
      "\u001b[0;31mKeyboardInterrupt\u001b[0m                         Traceback (most recent call last)",
      "\u001b[0;32m/var/folders/8f/b5rl_hw50bn0_k4xrt7mtm7w0000gn/T/ipykernel_62557/2610243237.py\u001b[0m in \u001b[0;36m<module>\u001b[0;34m\u001b[0m\n\u001b[1;32m     16\u001b[0m \u001b[0;34m\u001b[0m\u001b[0m\n\u001b[1;32m     17\u001b[0m \u001b[0;31m# Train model.  This also runs the indexer.\u001b[0m\u001b[0;34m\u001b[0m\u001b[0;34m\u001b[0m\u001b[0m\n\u001b[0;32m---> 18\u001b[0;31m \u001b[0mmlpc_model\u001b[0m \u001b[0;34m=\u001b[0m \u001b[0mmlpc_cv\u001b[0m\u001b[0;34m.\u001b[0m\u001b[0mfit\u001b[0m\u001b[0;34m(\u001b[0m\u001b[0mtrainingData\u001b[0m\u001b[0;34m)\u001b[0m\u001b[0;34m\u001b[0m\u001b[0;34m\u001b[0m\u001b[0m\n\u001b[0m\u001b[1;32m     19\u001b[0m \u001b[0;34m\u001b[0m\u001b[0m\n\u001b[1;32m     20\u001b[0m \u001b[0;31m# Make predictions.\u001b[0m\u001b[0;34m\u001b[0m\u001b[0;34m\u001b[0m\u001b[0m\n",
      "\u001b[0;32m~/opt/anaconda3/lib/python3.9/site-packages/pyspark/ml/base.py\u001b[0m in \u001b[0;36mfit\u001b[0;34m(self, dataset, params)\u001b[0m\n\u001b[1;32m    159\u001b[0m                 \u001b[0;32mreturn\u001b[0m \u001b[0mself\u001b[0m\u001b[0;34m.\u001b[0m\u001b[0mcopy\u001b[0m\u001b[0;34m(\u001b[0m\u001b[0mparams\u001b[0m\u001b[0;34m)\u001b[0m\u001b[0;34m.\u001b[0m\u001b[0m_fit\u001b[0m\u001b[0;34m(\u001b[0m\u001b[0mdataset\u001b[0m\u001b[0;34m)\u001b[0m\u001b[0;34m\u001b[0m\u001b[0;34m\u001b[0m\u001b[0m\n\u001b[1;32m    160\u001b[0m             \u001b[0;32melse\u001b[0m\u001b[0;34m:\u001b[0m\u001b[0;34m\u001b[0m\u001b[0;34m\u001b[0m\u001b[0m\n\u001b[0;32m--> 161\u001b[0;31m                 \u001b[0;32mreturn\u001b[0m \u001b[0mself\u001b[0m\u001b[0;34m.\u001b[0m\u001b[0m_fit\u001b[0m\u001b[0;34m(\u001b[0m\u001b[0mdataset\u001b[0m\u001b[0;34m)\u001b[0m\u001b[0;34m\u001b[0m\u001b[0;34m\u001b[0m\u001b[0m\n\u001b[0m\u001b[1;32m    162\u001b[0m         \u001b[0;32melse\u001b[0m\u001b[0;34m:\u001b[0m\u001b[0;34m\u001b[0m\u001b[0;34m\u001b[0m\u001b[0m\n\u001b[1;32m    163\u001b[0m             raise TypeError(\"Params must be either a param map or a list/tuple of param maps, \"\n",
      "\u001b[0;32m~/opt/anaconda3/lib/python3.9/site-packages/pyspark/ml/tuning.py\u001b[0m in \u001b[0;36m_fit\u001b[0;34m(self, dataset)\u001b[0m\n\u001b[1;32m    687\u001b[0m                 \u001b[0minheritable_thread_target\u001b[0m\u001b[0;34m,\u001b[0m\u001b[0;34m\u001b[0m\u001b[0;34m\u001b[0m\u001b[0m\n\u001b[1;32m    688\u001b[0m                 _parallelFitTasks(est, train, eva, validation, epm, collectSubModelsParam))\n\u001b[0;32m--> 689\u001b[0;31m             \u001b[0;32mfor\u001b[0m \u001b[0mj\u001b[0m\u001b[0;34m,\u001b[0m \u001b[0mmetric\u001b[0m\u001b[0;34m,\u001b[0m \u001b[0msubModel\u001b[0m \u001b[0;32min\u001b[0m \u001b[0mpool\u001b[0m\u001b[0;34m.\u001b[0m\u001b[0mimap_unordered\u001b[0m\u001b[0;34m(\u001b[0m\u001b[0;32mlambda\u001b[0m \u001b[0mf\u001b[0m\u001b[0;34m:\u001b[0m \u001b[0mf\u001b[0m\u001b[0;34m(\u001b[0m\u001b[0;34m)\u001b[0m\u001b[0;34m,\u001b[0m \u001b[0mtasks\u001b[0m\u001b[0;34m)\u001b[0m\u001b[0;34m:\u001b[0m\u001b[0;34m\u001b[0m\u001b[0;34m\u001b[0m\u001b[0m\n\u001b[0m\u001b[1;32m    690\u001b[0m                 \u001b[0mmetrics\u001b[0m\u001b[0;34m[\u001b[0m\u001b[0mj\u001b[0m\u001b[0;34m]\u001b[0m \u001b[0;34m+=\u001b[0m \u001b[0;34m(\u001b[0m\u001b[0mmetric\u001b[0m \u001b[0;34m/\u001b[0m \u001b[0mnFolds\u001b[0m\u001b[0;34m)\u001b[0m\u001b[0;34m\u001b[0m\u001b[0;34m\u001b[0m\u001b[0m\n\u001b[1;32m    691\u001b[0m                 \u001b[0;32mif\u001b[0m \u001b[0mcollectSubModelsParam\u001b[0m\u001b[0;34m:\u001b[0m\u001b[0;34m\u001b[0m\u001b[0;34m\u001b[0m\u001b[0m\n",
      "\u001b[0;32m~/opt/anaconda3/lib/python3.9/multiprocessing/pool.py\u001b[0m in \u001b[0;36mnext\u001b[0;34m(self, timeout)\u001b[0m\n\u001b[1;32m    856\u001b[0m                     \u001b[0mself\u001b[0m\u001b[0;34m.\u001b[0m\u001b[0m_pool\u001b[0m \u001b[0;34m=\u001b[0m \u001b[0;32mNone\u001b[0m\u001b[0;34m\u001b[0m\u001b[0;34m\u001b[0m\u001b[0m\n\u001b[1;32m    857\u001b[0m                     \u001b[0;32mraise\u001b[0m \u001b[0mStopIteration\u001b[0m \u001b[0;32mfrom\u001b[0m \u001b[0;32mNone\u001b[0m\u001b[0;34m\u001b[0m\u001b[0;34m\u001b[0m\u001b[0m\n\u001b[0;32m--> 858\u001b[0;31m                 \u001b[0mself\u001b[0m\u001b[0;34m.\u001b[0m\u001b[0m_cond\u001b[0m\u001b[0;34m.\u001b[0m\u001b[0mwait\u001b[0m\u001b[0;34m(\u001b[0m\u001b[0mtimeout\u001b[0m\u001b[0;34m)\u001b[0m\u001b[0;34m\u001b[0m\u001b[0;34m\u001b[0m\u001b[0m\n\u001b[0m\u001b[1;32m    859\u001b[0m                 \u001b[0;32mtry\u001b[0m\u001b[0;34m:\u001b[0m\u001b[0;34m\u001b[0m\u001b[0;34m\u001b[0m\u001b[0m\n\u001b[1;32m    860\u001b[0m                     \u001b[0mitem\u001b[0m \u001b[0;34m=\u001b[0m \u001b[0mself\u001b[0m\u001b[0;34m.\u001b[0m\u001b[0m_items\u001b[0m\u001b[0;34m.\u001b[0m\u001b[0mpopleft\u001b[0m\u001b[0;34m(\u001b[0m\u001b[0;34m)\u001b[0m\u001b[0;34m\u001b[0m\u001b[0;34m\u001b[0m\u001b[0m\n",
      "\u001b[0;32m~/opt/anaconda3/lib/python3.9/threading.py\u001b[0m in \u001b[0;36mwait\u001b[0;34m(self, timeout)\u001b[0m\n\u001b[1;32m    310\u001b[0m         \u001b[0;32mtry\u001b[0m\u001b[0;34m:\u001b[0m    \u001b[0;31m# restore state no matter what (e.g., KeyboardInterrupt)\u001b[0m\u001b[0;34m\u001b[0m\u001b[0;34m\u001b[0m\u001b[0m\n\u001b[1;32m    311\u001b[0m             \u001b[0;32mif\u001b[0m \u001b[0mtimeout\u001b[0m \u001b[0;32mis\u001b[0m \u001b[0;32mNone\u001b[0m\u001b[0;34m:\u001b[0m\u001b[0;34m\u001b[0m\u001b[0;34m\u001b[0m\u001b[0m\n\u001b[0;32m--> 312\u001b[0;31m                 \u001b[0mwaiter\u001b[0m\u001b[0;34m.\u001b[0m\u001b[0macquire\u001b[0m\u001b[0;34m(\u001b[0m\u001b[0;34m)\u001b[0m\u001b[0;34m\u001b[0m\u001b[0;34m\u001b[0m\u001b[0m\n\u001b[0m\u001b[1;32m    313\u001b[0m                 \u001b[0mgotit\u001b[0m \u001b[0;34m=\u001b[0m \u001b[0;32mTrue\u001b[0m\u001b[0;34m\u001b[0m\u001b[0;34m\u001b[0m\u001b[0m\n\u001b[1;32m    314\u001b[0m             \u001b[0;32melse\u001b[0m\u001b[0;34m:\u001b[0m\u001b[0;34m\u001b[0m\u001b[0;34m\u001b[0m\u001b[0m\n",
      "\u001b[0;31mKeyboardInterrupt\u001b[0m: "
     ]
    }
   ],
   "source": [
    "mlpc = MultilayerPerceptronClassifier(featuresCol=\"features\", labelCol=\"Severity\", predictionCol=\"prediction\", layers=[len(FEATURES), 6, 6], seed=123) \n",
    "\n",
    "mlpc_evaluator = MulticlassClassificationEvaluator(labelCol=\"Severity\", predictionCol=\"prediction\")\n",
    "\n",
    "# Create ParamGrid for Cross Validation\n",
    "mlpc_paramGrid = (ParamGridBuilder()\n",
    "             .addGrid(mlpc.layers, [[len(FEATURES), 22, 26], [len(FEATURES), 50, 30], [len(FEATURES), 150, 100]])\n",
    "             .addGrid(mlpc.maxIter, [1000]) # , 300, 500\n",
    "             .build())\n",
    "\n",
    "# Create 5-fold CrossValidator\n",
    "mlpc_cv = CrossValidator(estimator = mlpc,\n",
    "                        evaluator = mlpc_evaluator,\n",
    "                        estimatorParamMaps = mlpc_paramGrid,\n",
    "                        numFolds = 5)\n",
    "\n",
    "# Train model.  This also runs the indexer.\n",
    "mlpc_model = mlpc_cv.fit(trainingData)\n",
    "\n",
    "# Make predictions.\n",
    "mlpc_preds = mlpc_model.transform(testData)"
   ]
  },
  {
   "cell_type": "code",
   "execution_count": null,
   "metadata": {
    "colab": {
     "base_uri": "https://localhost:8080/",
     "height": 297
    },
    "executionInfo": {
     "elapsed": 9705,
     "status": "ok",
     "timestamp": 1650793581474,
     "user": {
      "displayName": "Herbi Shtini",
      "userId": "03158017251313112277"
     },
     "user_tz": -120
    },
    "id": "DYSmS09piFwl",
    "outputId": "ddd0bcf9-27e3-4a8f-9b90-497ad14f300f"
   },
   "outputs": [],
   "source": [
    "conf_mlpc_sev = mlpc_preds.select('Severity').toPandas()\n",
    "conf_mlpc_pred = mlpc_preds.select('prediction').toPandas()\n",
    "\n",
    "mlpc_cm = confusion_matrix(conf_mlpc_sev, conf_mlpc_pred, normalize='all')\n",
    "mlpc_cmd = ConfusionMatrixDisplay(mlpc_cm, display_labels=[1, 2, 3, 4])\n",
    "\n",
    "mlpc_cmd.plot()"
   ]
  },
  {
   "cell_type": "markdown",
   "metadata": {
    "id": "KbVTlMBpXgc7"
   },
   "source": [
    "Modeling speichern"
   ]
  },
  {
   "cell_type": "code",
   "execution_count": 18,
   "metadata": {
    "colab": {
     "base_uri": "https://localhost:8080/",
     "height": 621
    },
    "executionInfo": {
     "elapsed": 223,
     "status": "error",
     "timestamp": 1651087389268,
     "user": {
      "displayName": "Herbi Shtini",
      "userId": "03158017251313112277"
     },
     "user_tz": -120
    },
    "id": "c65hjvElFxSL",
    "outputId": "f02f6889-3b90-43d4-8414-7d9a9c828c57",
    "scrolled": true
   },
   "outputs": [
    {
     "name": "stderr",
     "output_type": "stream",
     "text": [
      "[Stage 5844:============================>                           (1 + 1) / 2]\r"
     ]
    }
   ],
   "source": [
    "dt_model.save('decision-tree-model')"
   ]
  },
  {
   "cell_type": "code",
   "execution_count": null,
   "metadata": {},
   "outputs": [],
   "source": []
  }
 ],
 "metadata": {
  "colab": {
   "collapsed_sections": [],
   "name": "Modeling-teil-1-Herbi.ipynb",
   "provenance": []
  },
  "kernelspec": {
   "display_name": "Python 3 (ipykernel)",
   "language": "python",
   "name": "python3"
  },
  "language_info": {
   "codemirror_mode": {
    "name": "ipython",
    "version": 3
   },
   "file_extension": ".py",
   "mimetype": "text/x-python",
   "name": "python",
   "nbconvert_exporter": "python",
   "pygments_lexer": "ipython3",
   "version": "3.9.7"
  }
 },
 "nbformat": 4,
 "nbformat_minor": 1
}
